{
 "cells": [
  {
   "cell_type": "markdown",
   "id": "ddb93daf",
   "metadata": {},
   "source": [
    "# Table of Contents\n",
    "---\n",
    "- [Imports](#Imports)\n",
    "- [Reading in Data](#Reading-in-Data)\n",
    "- [Cleaning](#Cleaning)\n",
    "- [Preprocessing Text Data](#Preprocessing-Text-Data)\n",
    "- [Train-Test-Split](#Train-Test-Split)\n",
    "- [Modeling](#Modeling)\n",
    "- [Model Selection and Conclusion](#Model-Selection-and-Conclusion)"
   ]
  },
  {
   "cell_type": "markdown",
   "id": "70bc0156",
   "metadata": {},
   "source": [
    "## Imports"
   ]
  },
  {
   "cell_type": "code",
   "execution_count": 1,
   "id": "1bfd3d80",
   "metadata": {
    "ExecuteTime": {
     "end_time": "2021-11-09T05:27:49.583836Z",
     "start_time": "2021-11-09T05:27:48.021485Z"
    },
    "code_folding": [
     0
    ]
   },
   "outputs": [],
   "source": [
    "# imports\n",
    "import numpy as np\n",
    "import pandas as pd\n",
    "import matplotlib.pyplot as plt\n",
    "\n",
    "import time\n",
    "\n",
    "from nltk.tokenize import word_tokenize, RegexpTokenizer\n",
    "from nltk.stem import WordNetLemmatizer\n",
    "from nltk.corpus import stopwords\n",
    "import re\n",
    "\n",
    "from sklearn.feature_extraction.text import CountVectorizer, TfidfVectorizer\n",
    "from sklearn.model_selection import train_test_split, GridSearchCV, cross_val_score\n",
    "from sklearn.ensemble import RandomForestClassifier\n",
    "from sklearn.neighbors import KNeighborsClassifier\n",
    "from sklearn.naive_bayes import MultinomialNB\n",
    "from sklearn.feature_extraction import text\n",
    "from sklearn.pipeline import Pipeline\n",
    "\n",
    "from sklearn.metrics import plot_confusion_matrix, confusion_matrix\n",
    "from sklearn.metrics import classification_report"
   ]
  },
  {
   "cell_type": "markdown",
   "id": "294a843c",
   "metadata": {},
   "source": [
    "## Reading in Data\n",
    "---\n",
    "Reading in twitch and youtube dataframes and combining them into one dataframe"
   ]
  },
  {
   "cell_type": "code",
   "execution_count": 2,
   "id": "9deb6b35",
   "metadata": {
    "ExecuteTime": {
     "end_time": "2021-11-09T05:27:50.007164Z",
     "start_time": "2021-11-09T05:27:49.584836Z"
    },
    "code_folding": [
     0
    ]
   },
   "outputs": [
    {
     "name": "stderr",
     "output_type": "stream",
     "text": [
      "C:\\Users\\clare\\anaconda3\\lib\\site-packages\\IPython\\core\\interactiveshell.py:3165: DtypeWarning: Columns (8,84) have mixed types.Specify dtype option on import or set low_memory=False.\n",
      "  has_raised = await self.run_ast_nodes(code_ast.body, cell_name,\n"
     ]
    }
   ],
   "source": [
    "# reading in data\n",
    "twitch = pd.read_csv('../data/twitch_df_full.csv')\n",
    "youtube = pd.read_csv('../data/youtube_df_full.csv')\n",
    "\n",
    "tw_df = twitch[['subreddit','selftext']]\n",
    "yt_df = youtube[['subreddit','selftext']]\n",
    "\n",
    "df = tw_df.append(yt_df,ignore_index=True)"
   ]
  },
  {
   "cell_type": "markdown",
   "id": "7f96875e",
   "metadata": {},
   "source": [
    "## Cleaning\n",
    "---\n",
    "After inspecting the word_count and string length I ended up dropping only observations for which the word count was less than 7, and index 1959 (maximum word count of 4,048 words). These were dropped because:\n",
    "- observations with up to 7 words indicated either:\n",
    "    - had the main message/question in the title.\n",
    "    - contained external links\n",
    "- index 1,959 was a rant unrelated to reddit/youtube."
   ]
  },
  {
   "cell_type": "code",
   "execution_count": 3,
   "id": "69b07649",
   "metadata": {
    "ExecuteTime": {
     "end_time": "2021-11-09T05:27:50.101185Z",
     "start_time": "2021-11-09T05:27:50.008163Z"
    },
    "code_folding": [
     0
    ]
   },
   "outputs": [
    {
     "data": {
      "text/plain": [
       "(count    20053.000000\n",
       " mean        71.497781\n",
       " std         79.168200\n",
       " min          1.000000\n",
       " 25%         28.000000\n",
       " 50%         52.000000\n",
       " 75%         90.000000\n",
       " max       4048.000000\n",
       " Name: word_count, dtype: float64,\n",
       " 0    3\n",
       " dtype: int64)"
      ]
     },
     "execution_count": 3,
     "metadata": {},
     "output_type": "execute_result"
    }
   ],
   "source": [
    "# getting word count and string length\n",
    "def get_word_count(string):\n",
    "    return len(string.split())\n",
    "\n",
    "def get_str_length(string):\n",
    "    return len(string)\n",
    "\n",
    "df['string_length'] = df['selftext'].map(get_str_length)\n",
    "df['word_count'] = df['selftext'].map(get_word_count)\n",
    "\n",
    "df['word_count'].describe(), df['word_count'].mode()"
   ]
  },
  {
   "cell_type": "code",
   "execution_count": 4,
   "id": "d9d7f9f0",
   "metadata": {
    "ExecuteTime": {
     "end_time": "2021-11-09T05:27:50.496168Z",
     "start_time": "2021-11-09T05:27:50.102186Z"
    },
    "code_folding": [
     0
    ]
   },
   "outputs": [
    {
     "data": {
      "image/png": "[encoded data removed]",
      "text/plain": [
       "<Figure size 576x360 with 1 Axes>"
      ]
     },
     "metadata": {
      "needs_background": "light"
     },
     "output_type": "display_data"
    }
   ],
   "source": [
    "# word count histogram\n",
    "plt.figure(figsize=(8,5))\n",
    "df[df['word_count']<=400]['word_count'].plot(kind='hist', bins = 200);\n",
    "plt.title(label='Word Count Histogram (count < 400)', fontdict={'size':18});\n",
    "plt.xlabel(xlabel='Word Count', fontdict={'size':14});\n",
    "plt.ylabel(ylabel='Frequency', fontdict={'size':14});\n",
    "plt.grid(b=True);"
   ]
  },
  {
   "cell_type": "code",
   "execution_count": 5,
   "id": "30b48e36",
   "metadata": {
    "ExecuteTime": {
     "end_time": "2021-11-09T05:27:50.512170Z",
     "start_time": "2021-11-09T05:27:50.497168Z"
    }
   },
   "outputs": [],
   "source": [
    "selftext_less_than_7 = df[df['word_count']<=7].index\n",
    "\n",
    "df.drop(index=selftext_less_than_7, inplace = True)\n",
    "df.drop(index=1959, inplace = True)\n",
    "\n",
    "df.reset_index(drop = True, inplace = True)"
   ]
  },
  {
   "cell_type": "markdown",
   "id": "4927012a",
   "metadata": {},
   "source": [
    "## Preprocessing Text Data\n",
    "---\n",
    "During pre-processing, I renamed and binarized the target variable, `'subreddit'`, as `'is_twitch'`. Then reset the only dataframe to include only the target and predictor variables `'is_twitch'` and `'selftext'`.\n",
    "Steps taken to process the data are as follows:\n",
    "- Expand contractions using method from ([geeksforgeeks.org](https://www.geeksforgeeks.org/nlp-expand-contractions-in-text-processing/))\n",
    "- Turning all text to lowercase\n",
    "- Lemmatizing text\n",
    "- Remove punctuation using method from ([geeksforgeeks.org](https://www.geeksforgeeks.org/python-remove-punctuation-from-string/))"
   ]
  },
  {
   "cell_type": "code",
   "execution_count": 6,
   "id": "8a77f9ed",
   "metadata": {
    "ExecuteTime": {
     "end_time": "2021-11-09T05:27:50.528174Z",
     "start_time": "2021-11-09T05:27:50.513171Z"
    },
    "code_folding": [
     0
    ]
   },
   "outputs": [],
   "source": [
    "# binarizing target variable and renaming as 'is_twitch'\n",
    "df['is_twitch'] = df['subreddit'].map({'Twitch':1,'youtube':0})\n",
    "df = df[['is_twitch','selftext']]"
   ]
  },
  {
   "cell_type": "code",
   "execution_count": 7,
   "id": "898f2a58",
   "metadata": {
    "ExecuteTime": {
     "end_time": "2021-11-09T05:27:53.552028Z",
     "start_time": "2021-11-09T05:27:50.530174Z"
    },
    "code_folding": [
     0
    ]
   },
   "outputs": [],
   "source": [
    "# contractions\n",
    "\n",
    "#import sys  \n",
    "#!{sys.executable} -m pip install contractions\n",
    "\n",
    "import contractions\n",
    "\n",
    "df['selftext'] = df['selftext'].map(lambda x: ' '.join([contractions.fix(word) for word in x.split()]))"
   ]
  },
  {
   "cell_type": "code",
   "execution_count": 8,
   "id": "48c0a85e",
   "metadata": {
    "ExecuteTime": {
     "end_time": "2021-11-09T05:27:53.584039Z",
     "start_time": "2021-11-09T05:27:53.553029Z"
    },
    "code_folding": []
   },
   "outputs": [],
   "source": [
    "# turning all letters to lowercase\n",
    "df['selftext'] = df['selftext'].map(lambda x: x.lower())"
   ]
  },
  {
   "cell_type": "code",
   "execution_count": 9,
   "id": "46e82751",
   "metadata": {
    "ExecuteTime": {
     "end_time": "2021-11-09T05:27:59.766217Z",
     "start_time": "2021-11-09T05:27:53.585039Z"
    },
    "code_folding": [
     0
    ]
   },
   "outputs": [],
   "source": [
    "# lemmatizing\n",
    "\n",
    "lem = WordNetLemmatizer()\n",
    "\n",
    "df['selftext'] = df['selftext'].map(lambda x:  \\\n",
    "            ' '.join([lem.lemmatize(word) for word in RegexpTokenizer(r'\\w+').tokenize(x)]))"
   ]
  },
  {
   "cell_type": "code",
   "execution_count": 10,
   "id": "2bf02677",
   "metadata": {
    "ExecuteTime": {
     "end_time": "2021-11-09T05:27:59.858237Z",
     "start_time": "2021-11-09T05:27:59.767217Z"
    },
    "code_folding": [
     0
    ]
   },
   "outputs": [],
   "source": [
    "# removing punctuation\n",
    "# https://www.geeksforgeeks.org/python-remove-punctuation-from-string/\n",
    "\n",
    "df['selftext'] = df['selftext'].map(lambda x: re.sub(r'[^\\w\\s]','',x))"
   ]
  },
  {
   "cell_type": "markdown",
   "id": "fbb844b4",
   "metadata": {},
   "source": [
    "## Train-Test-Split\n",
    "---\n",
    "After performing train-test-split on the predictor variable `'selftext'`, I created a custom list of stopwords to append to the stopwords found in sklearn's `text` module and those built into TF-IDF Vectorizer. X_train and X_test were appropriately fitted and transformed, and turned into dataframes for EDA."
   ]
  },
  {
   "cell_type": "code",
   "execution_count": 11,
   "id": "676eaeb2",
   "metadata": {
    "ExecuteTime": {
     "end_time": "2021-11-09T05:27:59.874241Z",
     "start_time": "2021-11-09T05:27:59.859238Z"
    },
    "code_folding": [
     0
    ]
   },
   "outputs": [],
   "source": [
    "# defining X and y\n",
    "X = df['selftext']\n",
    "y = df['is_twitch']\n",
    "\n",
    "X_train, X_test, y_train, y_test = train_test_split(X,\n",
    "                                                    y,\n",
    "                                                    test_size = 0.20,\n",
    "                                                    stratify = y,\n",
    "                                                    random_state = 42)"
   ]
  },
  {
   "cell_type": "code",
   "execution_count": 12,
   "id": "de5a4d57",
   "metadata": {
    "ExecuteTime": {
     "end_time": "2021-11-09T05:27:59.890245Z",
     "start_time": "2021-11-09T05:27:59.875241Z"
    },
    "code_folding": [
     0
    ]
   },
   "outputs": [],
   "source": [
    "# stop words\n",
    "tw_yt_stop_words = ['twitch','ttv','youtube','yt','http','https','www','com','amp','jpeg','png',\n",
    "                    'reddit','redd','dont','like','just','want','doe','ha','wa','rtwitch','ryoutube']\n",
    "stop_words = text.ENGLISH_STOP_WORDS.union(tw_yt_stop_words)\n",
    "stop_words = stop_words.union(TfidfVectorizer(stop_words='english').get_stop_words())"
   ]
  },
  {
   "cell_type": "code",
   "execution_count": 13,
   "id": "186da416",
   "metadata": {
    "ExecuteTime": {
     "end_time": "2021-11-09T05:27:59.906248Z",
     "start_time": "2021-11-09T05:27:59.891245Z"
    },
    "code_folding": [
     0
    ]
   },
   "outputs": [],
   "source": [
    "# tvec\n",
    "tvec = TfidfVectorizer(stop_words = stop_words,\n",
    "                      min_df = 3,\n",
    "                      max_features = 50000,\n",
    "                      strip_accents = 'ascii',\n",
    "                      ngram_range = (1, 3))"
   ]
  },
  {
   "cell_type": "code",
   "execution_count": 14,
   "id": "e68a6a10",
   "metadata": {
    "ExecuteTime": {
     "end_time": "2021-11-09T05:28:03.843784Z",
     "start_time": "2021-11-09T05:27:59.907249Z"
    },
    "code_folding": [
     0,
     3
    ]
   },
   "outputs": [],
   "source": [
    "X_train_tvec = pd.DataFrame(tvec.fit_transform(X_train).todense(),\n",
    "                            columns = tvec.get_feature_names())\n",
    "\n",
    "X_test_tvec = pd.DataFrame(tvec.transform(X_test).todense(),\n",
    "                            columns = tvec.get_feature_names())"
   ]
  },
  {
   "cell_type": "markdown",
   "id": "09dfae7e",
   "metadata": {},
   "source": [
    "### Most common words in overall train data and twitch/youtube data\n",
    "---\n",
    "Below are three plots of the sums of TF-IDF scores for three sets contained in the train data set. The first figure shows the 25 most common words in the train data. The next two shows words unique to the twich and youtube subreddits. Because two subreddits are closely related, I determined that both subreddits largely shared the same words based on two things:\n",
    "- the scale of the TF-IDF scores for words unique to the subreddits is substantially lower than those for the whole train data set\n",
    "- when dissecting the X_train_tvec, it took looking over 2,000 of the most common words in generate about 300 unique words for the respective subreddits."
   ]
  },
  {
   "cell_type": "code",
   "execution_count": 15,
   "id": "b8c99802",
   "metadata": {
    "ExecuteTime": {
     "end_time": "2021-11-09T05:28:06.021801Z",
     "start_time": "2021-11-09T05:28:03.844784Z"
    },
    "code_folding": [
     0
    ]
   },
   "outputs": [
    {
     "data": {
      "image/png": "[encoded data removed]",
      "text/plain": [
       "<Figure size 576x576 with 1 Axes>"
      ]
     },
     "metadata": {
      "needs_background": "light"
     },
     "output_type": "display_data"
    }
   ],
   "source": [
    "# 25 most common words in train data\n",
    "plt.figure(figsize=(8,8));\n",
    "X_train_tvec.sum().sort_values(ascending=False).head(25).plot(kind='barh');\n",
    "plt.title(label = '25 Most Common Words in Train Data', fontdict = {'size':24});\n",
    "plt.xlabel(xlabel = 'Sum of TF-IDF Scores', fontdict = {'size':16});\n",
    "plt.ylabel(ylabel = 'Words', fontdict = {'size':16});\n",
    "plt.grid(b = True);"
   ]
  },
  {
   "cell_type": "code",
   "execution_count": 16,
   "id": "fecb09cb",
   "metadata": {
    "ExecuteTime": {
     "end_time": "2021-11-09T05:28:08.635388Z",
     "start_time": "2021-11-09T05:28:06.022801Z"
    },
    "code_folding": []
   },
   "outputs": [
    {
     "name": "stderr",
     "output_type": "stream",
     "text": [
      "<ipython-input-16-b9d1cc3a15a5>:2: UserWarning: Boolean Series key will be reindexed to match DataFrame index.\n",
      "  twitch_2k = X_train_tvec[df['is_twitch']==1].sum().sort_values(ascending=False)[:2000]\n",
      "<ipython-input-16-b9d1cc3a15a5>:3: UserWarning: Boolean Series key will be reindexed to match DataFrame index.\n",
      "  youtube_2k = X_train_tvec[df['is_twitch']==0].sum().sort_values(ascending=False)[:2000]\n"
     ]
    }
   ],
   "source": [
    "# dissecting X_train_tvec to get most common words by subreddit\n",
    "twitch_2k = X_train_tvec[df['is_twitch']==1].sum().sort_values(ascending=False)[:2000]\n",
    "youtube_2k = X_train_tvec[df['is_twitch']==0].sum().sort_values(ascending=False)[:2000]\n",
    "\n",
    "words_in_both = [i for i in twitch_2k.index if i in youtube_2k.index]\n",
    "twitch_2k_not_in_yt = [i for i in twitch_2k.index if i not in youtube_2k.index]\n",
    "yt_2k_not_in_twitch = [i for i in youtube_2k.index if i not in twitch_2k.index]\n",
    "\n",
    "words_in_both_df = pd.DataFrame(words_in_both, columns =['both'])\n",
    "tw_wc_df = pd.DataFrame(twitch_2k_not_in_yt, columns =['tw'])\n",
    "yt_wc_df = pd.DataFrame(yt_2k_not_in_twitch, columns =['yt'])"
   ]
  },
  {
   "cell_type": "code",
   "execution_count": 17,
   "id": "407138db",
   "metadata": {
    "ExecuteTime": {
     "end_time": "2021-11-09T05:28:08.852437Z",
     "start_time": "2021-11-09T05:28:08.636389Z"
    },
    "code_folding": [
     0
    ]
   },
   "outputs": [
    {
     "data": {
      "image/png": "[encoded data removed]",
      "text/plain": [
       "<Figure size 576x576 with 1 Axes>"
      ]
     },
     "metadata": {
      "needs_background": "light"
     },
     "output_type": "display_data"
    }
   ],
   "source": [
    "# 25 most common words in Twitch data\n",
    "plt.figure(figsize=(8,8));\n",
    "twitch_2k.loc[twitch_2k_not_in_yt].sort_values(ascending=False).head(25).plot(kind='barh');\n",
    "plt.title(label = '25 Most Common Words in Twitch Data', fontdict = {'size':24});\n",
    "plt.xlabel(xlabel = 'Sum of TF-IDF Scores', fontdict = {'size':16});\n",
    "plt.ylabel(ylabel = 'Words', fontdict = {'size':16});\n",
    "plt.grid(b = True);"
   ]
  },
  {
   "cell_type": "code",
   "execution_count": 18,
   "id": "c1e87e98",
   "metadata": {
    "ExecuteTime": {
     "end_time": "2021-11-09T05:28:09.068486Z",
     "start_time": "2021-11-09T05:28:08.853437Z"
    },
    "code_folding": [
     0
    ]
   },
   "outputs": [
    {
     "data": {
      "image/png": "[encoded data removed]",
      "text/plain": [
       "<Figure size 576x576 with 1 Axes>"
      ]
     },
     "metadata": {
      "needs_background": "light"
     },
     "output_type": "display_data"
    }
   ],
   "source": [
    "# 25 most common words in Youtube data\n",
    "plt.figure(figsize=(8,8));\n",
    "youtube_2k.loc[yt_2k_not_in_twitch].sort_values(ascending=False).head(25).plot(kind='barh');\n",
    "plt.title(label = '25 Most Common Words in Youtube Data', fontdict = {'size':24});\n",
    "plt.xlabel(xlabel = 'Sum of TF-IDF Scores', fontdict = {'size':16});\n",
    "plt.ylabel(ylabel = 'Words', fontdict = {'size':16});\n",
    "plt.grid(b = True);"
   ]
  },
  {
   "cell_type": "markdown",
   "id": "7b2dbb9a",
   "metadata": {},
   "source": [
    "## Modeling\n",
    "---\n",
    "### Baseline Predictions\n",
    "Considering I collected equal amounts of data from each subreddit, the null hypothesis only ~50% accuracate in predicting the target variable."
   ]
  },
  {
   "cell_type": "code",
   "execution_count": 19,
   "id": "3e23ca14",
   "metadata": {
    "ExecuteTime": {
     "end_time": "2021-11-09T05:28:09.084490Z",
     "start_time": "2021-11-09T05:28:09.069485Z"
    }
   },
   "outputs": [
    {
     "data": {
      "text/plain": [
       "1    0.505786\n",
       "0    0.494214\n",
       "Name: is_twitch, dtype: float64"
      ]
     },
     "execution_count": 19,
     "metadata": {},
     "output_type": "execute_result"
    }
   ],
   "source": [
    "y.value_counts(normalize=True)"
   ]
  },
  {
   "cell_type": "markdown",
   "id": "245050ba",
   "metadata": {},
   "source": [
    "## KNN Classifier\n",
    "---\n",
    "Below, cross-validated gridsearch yielded test parameters of 701 distance-weighted nearest neighbors. In other words, the closer TF-IDF scores were to the X_test predictor variables, the more greater their effect in determining which subreddit the post belonged to.\n",
    "\n",
    "This model turned out to be overfit, 99% accurate on the train data, while only 89% accurate on the validation data.\n",
    "\n",
    "When looking at the normalized confusion matrix for this model, despite having roughly equal number of posts from each subreddit, this model predicts slightly more accurately posts belonging to youtube."
   ]
  },
  {
   "cell_type": "code",
   "execution_count": 23,
   "id": "93182fb3",
   "metadata": {
    "ExecuteTime": {
     "end_time": "2021-11-09T05:31:33.949822Z",
     "start_time": "2021-11-09T05:28:09.133500Z"
    },
    "code_folding": [
     0
    ],
    "collapsed": true
   },
   "outputs": [
    {
     "name": "stdout",
     "output_type": "stream",
     "text": [
      "Fitting 3 folds for each of 4 candidates, totalling 12 fits\n",
      "[CV 1/3] END ...............n_neighbors=651, weights=uniform; total time=  16.3s\n",
      "[CV 2/3] END ...............n_neighbors=651, weights=uniform; total time=  16.3s\n",
      "[CV 3/3] END ...............n_neighbors=651, weights=uniform; total time=  16.2s\n",
      "[CV 1/3] END ..............n_neighbors=651, weights=distance; total time=  16.5s\n",
      "[CV 2/3] END ..............n_neighbors=651, weights=distance; total time=  16.3s\n",
      "[CV 3/3] END ..............n_neighbors=651, weights=distance; total time=  17.2s\n",
      "[CV 1/3] END ...............n_neighbors=701, weights=uniform; total time=  17.3s\n",
      "[CV 2/3] END ...............n_neighbors=701, weights=uniform; total time=  16.6s\n",
      "[CV 3/3] END ...............n_neighbors=701, weights=uniform; total time=  17.6s\n",
      "[CV 1/3] END ..............n_neighbors=701, weights=distance; total time=  17.6s\n",
      "[CV 2/3] END ..............n_neighbors=701, weights=distance; total time=  15.2s\n",
      "[CV 3/3] END ..............n_neighbors=701, weights=distance; total time=  16.2s\n"
     ]
    },
    {
     "data": {
      "text/plain": [
       "{'n_neighbors': 701, 'weights': 'distance'}"
      ]
     },
     "execution_count": 23,
     "metadata": {},
     "output_type": "execute_result"
    }
   ],
   "source": [
    "# knn code\n",
    "knn = KNeighborsClassifier()\n",
    "\n",
    "knn_params = {\n",
    "    'n_neighbors':range(651,751,50),\n",
    "    'weights':['uniform','distance']\n",
    "}\n",
    "\n",
    "knn_gs = GridSearchCV(knn,\n",
    "                     knn_params,\n",
    "                     cv = 3,\n",
    "                     verbose = 3)\n",
    "\n",
    "knn_gs.fit(X_train_tvec, y_train)\n",
    "knn_gs.best_params_"
   ]
  },
  {
   "cell_type": "code",
   "execution_count": 24,
   "id": "df9bb441",
   "metadata": {
    "ExecuteTime": {
     "end_time": "2021-11-09T05:35:04.432052Z",
     "start_time": "2021-11-09T05:31:33.950822Z"
    },
    "code_folding": [
     0
    ],
    "collapsed": true
   },
   "outputs": [
    {
     "name": "stdout",
     "output_type": "stream",
     "text": [
      "Cross Val Score 0.800825008331667\n",
      "Train Score: 0.999666711105186\n",
      "Test Score: 0.8898960277259398\n",
      "Best Score: 0.8778830500566553\n",
      "Best Parameters: {'n_neighbors': 701, 'weights': 'distance'}\n"
     ]
    }
   ],
   "source": [
    "# knn scores\n",
    "print('Cross Val Score', cross_val_score(knn,X_train_tvec, y_train, cv = 3,n_jobs=-1).mean())\n",
    "print('Train Score:', knn_gs.score(X_train_tvec, y_train))\n",
    "print('Test Score:', knn_gs.score(X_test_tvec, y_test))\n",
    "print('Best Score:',knn_gs.best_score_)\n",
    "print('Best Parameters:',knn_gs.best_params_)"
   ]
  },
  {
   "cell_type": "markdown",
   "id": "7a5fe306",
   "metadata": {},
   "source": [
    "|KNN Scores/Params|Values|\n",
    "|---|---|\n",
    "|Cross Val Score|0.5233137742537739|\n",
    "|Train Score|0.999666711105186|\n",
    "|Test Score|0.8898960277259398|\n",
    "|Best Score|0.8778830500566553|\n",
    "|Best Parameters|{'n_neighbors': 701, 'weights': 'distance'}|"
   ]
  },
  {
   "cell_type": "code",
   "execution_count": 26,
   "id": "638a2d8c",
   "metadata": {
    "ExecuteTime": {
     "end_time": "2021-11-09T05:35:34.120410Z",
     "start_time": "2021-11-09T05:35:19.210777Z"
    },
    "code_folding": [
     0
    ]
   },
   "outputs": [
    {
     "data": {
      "text/plain": [
       "Text(0.5, 1.0, 'KNN Confusion Matrix')"
      ]
     },
     "execution_count": 26,
     "metadata": {},
     "output_type": "execute_result"
    },
    {
     "data": {
      "image/png": "[encoded data removed]",
      "text/plain": [
       "<Figure size 504x504 with 2 Axes>"
      ]
     },
     "metadata": {
      "needs_background": "light"
     },
     "output_type": "display_data"
    }
   ],
   "source": [
    "# knn predictions and confusion matrix\n",
    "knn_preds = knn_gs.predict(X_test_tvec)\n",
    "\n",
    "cm = confusion_matrix(y_test, knn_preds)\n",
    "tn, fp, fn, tp = cm.ravel()\n",
    "\n",
    "fig, axknn1 = plt.subplots(figsize=(7, 7))\n",
    "plot_confusion_matrix(knn_gs,\n",
    "                     X_test_tvec,\n",
    "                     y_test,\n",
    "                     cmap = 'Blues',\n",
    "                     ax = axknn1);\n",
    "plt.title(label='KNN Confusion Matrix',fontdict={'size':18})"
   ]
  },
  {
   "cell_type": "code",
   "execution_count": 27,
   "id": "de52cdf4",
   "metadata": {
    "ExecuteTime": {
     "end_time": "2021-11-09T05:35:49.076891Z",
     "start_time": "2021-11-09T05:35:34.121410Z"
    },
    "code_folding": [
     0
    ]
   },
   "outputs": [
    {
     "data": {
      "text/plain": [
       "Text(0.5, 1.0, 'KNN Confusion Matrix')"
      ]
     },
     "execution_count": 27,
     "metadata": {},
     "output_type": "execute_result"
    },
    {
     "data": {
      "image/png": "[encoded data removed]",
      "text/plain": [
       "<Figure size 504x504 with 2 Axes>"
      ]
     },
     "metadata": {
      "needs_background": "light"
     },
     "output_type": "display_data"
    }
   ],
   "source": [
    "# knn confusion matrix (normalized)\n",
    "fig, axknn2 = plt.subplots(figsize=(7, 7))\n",
    "plot_confusion_matrix(knn_gs,\n",
    "                     X_test_tvec,\n",
    "                     y_test,\n",
    "                     normalize = 'true',\n",
    "                     cmap = 'Blues',\n",
    "                     ax = axknn2);\n",
    "plt.title(label='KNN Confusion Matrix',fontdict={'size':18})"
   ]
  },
  {
   "cell_type": "code",
   "execution_count": 28,
   "id": "41edd76c",
   "metadata": {
    "ExecuteTime": {
     "end_time": "2021-11-09T05:35:49.108897Z",
     "start_time": "2021-11-09T05:35:49.077891Z"
    },
    "collapsed": true
   },
   "outputs": [
    {
     "name": "stdout",
     "output_type": "stream",
     "text": [
      "              precision    recall  f1-score   support\n",
      "\n",
      "           0       0.87      0.91      0.89      1854\n",
      "           1       0.91      0.87      0.89      1897\n",
      "\n",
      "    accuracy                           0.89      3751\n",
      "   macro avg       0.89      0.89      0.89      3751\n",
      "weighted avg       0.89      0.89      0.89      3751\n",
      "\n"
     ]
    }
   ],
   "source": [
    "print(classification_report(y_test, knn_preds))"
   ]
  },
  {
   "cell_type": "markdown",
   "id": "5a1075a1",
   "metadata": {},
   "source": [
    "|KNN|precision|recall|f1-score|support|\n",
    "|---|---|---|---|---|\n",
    "|0|0.93|0.76|0.84|2001|\n",
    "|1|0.80|0.94|0.86|2010|\n",
    "|accuracy|   |   |0.85|4011|"
   ]
  },
  {
   "cell_type": "markdown",
   "id": "5f6f4ecf",
   "metadata": {},
   "source": [
    "## Random Forest Classifier\n",
    "---\n",
    "With accuracies of 94% and 91% on the train and validation data respectively, this random forest classifier model performed better than the previous KNN model, showing a lower degree of overfittedness. According to the normalized confusion matrix, it also predicts each subreddit more accurately than the KNN model.\n",
    "\n",
    "One added benefit of this model is the ability to take a closer look at which features are important in determining the predictions, namely, reducing the likelihood of being mislabeled. Shown below are the top 15 words with the highest feature importance."
   ]
  },
  {
   "cell_type": "code",
   "execution_count": 30,
   "id": "202d2e5f",
   "metadata": {
    "ExecuteTime": {
     "end_time": "2021-11-09T06:03:31.558938Z",
     "start_time": "2021-11-09T05:35:49.125901Z"
    },
    "code_folding": [
     0
    ],
    "collapsed": true
   },
   "outputs": [
    {
     "name": "stdout",
     "output_type": "stream",
     "text": [
      "Fitting 3 folds for each of 8 candidates, totalling 24 fits\n",
      "[CV 1/3] END max_depth=75, min_samples_leaf=3, min_samples_split=5, n_estimators=100; total time= 1.1min\n",
      "[CV 2/3] END max_depth=75, min_samples_leaf=3, min_samples_split=5, n_estimators=100; total time= 1.1min\n",
      "[CV 3/3] END max_depth=75, min_samples_leaf=3, min_samples_split=5, n_estimators=100; total time= 1.1min\n",
      "[CV 1/3] END max_depth=75, min_samples_leaf=3, min_samples_split=15, n_estimators=100; total time= 1.1min\n",
      "[CV 2/3] END max_depth=75, min_samples_leaf=3, min_samples_split=15, n_estimators=100; total time= 1.1min\n",
      "[CV 3/3] END max_depth=75, min_samples_leaf=3, min_samples_split=15, n_estimators=100; total time= 1.1min\n",
      "[CV 1/3] END max_depth=75, min_samples_leaf=8, min_samples_split=5, n_estimators=100; total time=  59.5s\n",
      "[CV 2/3] END max_depth=75, min_samples_leaf=8, min_samples_split=5, n_estimators=100; total time=  56.0s\n",
      "[CV 3/3] END max_depth=75, min_samples_leaf=8, min_samples_split=5, n_estimators=100; total time=  56.9s\n",
      "[CV 1/3] END max_depth=75, min_samples_leaf=8, min_samples_split=15, n_estimators=100; total time=  55.6s\n",
      "[CV 2/3] END max_depth=75, min_samples_leaf=8, min_samples_split=15, n_estimators=100; total time=  56.8s\n",
      "[CV 3/3] END max_depth=75, min_samples_leaf=8, min_samples_split=15, n_estimators=100; total time=  56.9s\n",
      "[CV 1/3] END max_depth=100, min_samples_leaf=3, min_samples_split=5, n_estimators=100; total time= 1.2min\n",
      "[CV 2/3] END max_depth=100, min_samples_leaf=3, min_samples_split=5, n_estimators=100; total time= 1.2min\n",
      "[CV 3/3] END max_depth=100, min_samples_leaf=3, min_samples_split=5, n_estimators=100; total time= 1.2min\n",
      "[CV 1/3] END max_depth=100, min_samples_leaf=3, min_samples_split=15, n_estimators=100; total time= 1.2min\n",
      "[CV 2/3] END max_depth=100, min_samples_leaf=3, min_samples_split=15, n_estimators=100; total time= 1.2min\n",
      "[CV 3/3] END max_depth=100, min_samples_leaf=3, min_samples_split=15, n_estimators=100; total time= 1.2min\n",
      "[CV 1/3] END max_depth=100, min_samples_leaf=8, min_samples_split=5, n_estimators=100; total time= 1.0min\n",
      "[CV 2/3] END max_depth=100, min_samples_leaf=8, min_samples_split=5, n_estimators=100; total time= 1.0min\n",
      "[CV 3/3] END max_depth=100, min_samples_leaf=8, min_samples_split=5, n_estimators=100; total time=  59.9s\n",
      "[CV 1/3] END max_depth=100, min_samples_leaf=8, min_samples_split=15, n_estimators=100; total time= 1.0min\n",
      "[CV 2/3] END max_depth=100, min_samples_leaf=8, min_samples_split=15, n_estimators=100; total time= 1.1min\n",
      "[CV 3/3] END max_depth=100, min_samples_leaf=8, min_samples_split=15, n_estimators=100; total time= 1.0min\n"
     ]
    },
    {
     "data": {
      "text/plain": [
       "GridSearchCV(cv=3, estimator=RandomForestClassifier(),\n",
       "             param_grid={'max_depth': [75, 100], 'min_samples_leaf': [3, 8],\n",
       "                         'min_samples_split': [5, 15], 'n_estimators': [100]},\n",
       "             verbose=3)"
      ]
     },
     "execution_count": 30,
     "metadata": {},
     "output_type": "execute_result"
    }
   ],
   "source": [
    "# rfc code\n",
    "rfc = RandomForestClassifier()\n",
    "\n",
    "rfc_params = {\n",
    "    'n_estimators':[100],\n",
    "    'max_depth':[75,100],\n",
    "    'min_samples_leaf':[3,8],\n",
    "    'min_samples_split':[5,15]\n",
    "}\n",
    "\n",
    "rfc_gs = GridSearchCV(rfc,\n",
    "                      rfc_params,\n",
    "                      cv = 3,\n",
    "                      verbose = 3)\n",
    "\n",
    "rfc_gs.fit(X_train_tvec, y_train)"
   ]
  },
  {
   "cell_type": "code",
   "execution_count": 31,
   "id": "1135e038",
   "metadata": {
    "ExecuteTime": {
     "end_time": "2021-11-09T06:03:34.653634Z",
     "start_time": "2021-11-09T06:03:31.559939Z"
    },
    "code_folding": [
     0
    ],
    "collapsed": true
   },
   "outputs": [
    {
     "name": "stdout",
     "output_type": "stream",
     "text": [
      "Train Score: 0.9390747900279963\n",
      "Test Score: 0.9176219674753399\n",
      "Best Score: 0.9071456908618276\n",
      "Best Parameters: {'max_depth': 100, 'min_samples_leaf': 3, 'min_samples_split': 15, 'n_estimators': 100}\n"
     ]
    }
   ],
   "source": [
    "# rfc scores\n",
    "print('Train Score:', rfc_gs.score(X_train_tvec, y_train))\n",
    "print('Test Score:', rfc_gs.score(X_test_tvec, y_test))\n",
    "print('Best Score:', rfc_gs.best_score_)\n",
    "print('Best Parameters:', rfc_gs.best_params_)"
   ]
  },
  {
   "cell_type": "markdown",
   "id": "4e80fdf1",
   "metadata": {},
   "source": [
    "|RFC_gs Score/Params|Values|\n",
    "|---|---|\n",
    "|Train Score|0.9407412345020664|\n",
    "|Test Score|0.9157557984537457|\n",
    "|Best Score|0.9067454642404852|\n",
    "|Best Parameters|{'max_depth': 100, 'min_samples_leaf': 3,  |\n",
    "||'min_samples_split': 5, 'n_estimators': 100}|"
   ]
  },
  {
   "cell_type": "code",
   "execution_count": 32,
   "id": "0af4042f",
   "metadata": {
    "ExecuteTime": {
     "end_time": "2021-11-09T06:03:34.793480Z",
     "start_time": "2021-11-09T06:03:34.654637Z"
    },
    "code_folding": [
     0
    ]
   },
   "outputs": [
    {
     "data": {
      "text/html": [
       "<div>\n",
       "<style scoped>\n",
       "    .dataframe tbody tr th:only-of-type {\n",
       "        vertical-align: middle;\n",
       "    }\n",
       "\n",
       "    .dataframe tbody tr th {\n",
       "        vertical-align: top;\n",
       "    }\n",
       "\n",
       "    .dataframe thead th {\n",
       "        text-align: right;\n",
       "    }\n",
       "</style>\n",
       "<table border=\"1\" class=\"dataframe\">\n",
       "  <thead>\n",
       "    <tr style=\"text-align: right;\">\n",
       "      <th></th>\n",
       "      <th>Column Name</th>\n",
       "      <th>Feature Importance</th>\n",
       "    </tr>\n",
       "  </thead>\n",
       "  <tbody>\n",
       "    <tr>\n",
       "      <th>30918</th>\n",
       "      <td>video</td>\n",
       "      <td>0.098510</td>\n",
       "    </tr>\n",
       "    <tr>\n",
       "      <th>25964</th>\n",
       "      <td>stream</td>\n",
       "      <td>0.081172</td>\n",
       "    </tr>\n",
       "    <tr>\n",
       "      <th>26509</th>\n",
       "      <td>streamer</td>\n",
       "      <td>0.038428</td>\n",
       "    </tr>\n",
       "    <tr>\n",
       "      <th>26691</th>\n",
       "      <td>streaming</td>\n",
       "      <td>0.031369</td>\n",
       "    </tr>\n",
       "    <tr>\n",
       "      <th>11010</th>\n",
       "      <td>game</td>\n",
       "      <td>0.020414</td>\n",
       "    </tr>\n",
       "    <tr>\n",
       "      <th>31906</th>\n",
       "      <td>viewer</td>\n",
       "      <td>0.017877</td>\n",
       "    </tr>\n",
       "    <tr>\n",
       "      <th>5323</th>\n",
       "      <td>chat</td>\n",
       "      <td>0.017088</td>\n",
       "    </tr>\n",
       "    <tr>\n",
       "      <th>6069</th>\n",
       "      <td>comment</td>\n",
       "      <td>0.016568</td>\n",
       "    </tr>\n",
       "    <tr>\n",
       "      <th>4812</th>\n",
       "      <td>channel</td>\n",
       "      <td>0.014781</td>\n",
       "    </tr>\n",
       "    <tr>\n",
       "      <th>18674</th>\n",
       "      <td>ob</td>\n",
       "      <td>0.013077</td>\n",
       "    </tr>\n",
       "    <tr>\n",
       "      <th>2013</th>\n",
       "      <td>affiliate</td>\n",
       "      <td>0.011693</td>\n",
       "    </tr>\n",
       "    <tr>\n",
       "      <th>10480</th>\n",
       "      <td>follower</td>\n",
       "      <td>0.011671</td>\n",
       "    </tr>\n",
       "    <tr>\n",
       "      <th>20940</th>\n",
       "      <td>premium</td>\n",
       "      <td>0.007619</td>\n",
       "    </tr>\n",
       "    <tr>\n",
       "      <th>20411</th>\n",
       "      <td>playlist</td>\n",
       "      <td>0.007229</td>\n",
       "    </tr>\n",
       "    <tr>\n",
       "      <th>26926</th>\n",
       "      <td>streamlabs</td>\n",
       "      <td>0.006936</td>\n",
       "    </tr>\n",
       "  </tbody>\n",
       "</table>\n",
       "</div>"
      ],
      "text/plain": [
       "      Column Name  Feature Importance\n",
       "30918       video            0.098510\n",
       "25964      stream            0.081172\n",
       "26509    streamer            0.038428\n",
       "26691   streaming            0.031369\n",
       "11010        game            0.020414\n",
       "31906      viewer            0.017877\n",
       "5323         chat            0.017088\n",
       "6069      comment            0.016568\n",
       "4812      channel            0.014781\n",
       "18674          ob            0.013077\n",
       "2013    affiliate            0.011693\n",
       "10480    follower            0.011671\n",
       "20940     premium            0.007619\n",
       "20411    playlist            0.007229\n",
       "26926  streamlabs            0.006936"
      ]
     },
     "execution_count": 32,
     "metadata": {},
     "output_type": "execute_result"
    }
   ],
   "source": [
    "# rfc feature importance\n",
    "d = {'Column Name':X_train_tvec.columns,\n",
    "     'Feature Importance':rfc_gs.best_estimator_.feature_importances_}\n",
    "rfc_gs_fi = pd.DataFrame(d)\n",
    "\n",
    "rfc_gs_fi.to_csv('../data/rfc_gs_fi.csv',index=False)\n",
    "\n",
    "rfc_gs_fi.sort_values(by=['Feature Importance'], ascending= False).head(15)"
   ]
  },
  {
   "cell_type": "code",
   "execution_count": 34,
   "id": "8e007124",
   "metadata": {
    "ExecuteTime": {
     "end_time": "2021-11-09T06:03:36.231607Z",
     "start_time": "2021-11-09T06:03:35.445627Z"
    },
    "code_folding": [
     0
    ]
   },
   "outputs": [
    {
     "data": {
      "text/plain": [
       "Text(0.5, 1.0, 'RFC Confusion Matrix')"
      ]
     },
     "execution_count": 34,
     "metadata": {},
     "output_type": "execute_result"
    },
    {
     "data": {
      "image/png": "[encoded data removed]",
      "text/plain": [
       "<Figure size 504x504 with 2 Axes>"
      ]
     },
     "metadata": {
      "needs_background": "light"
     },
     "output_type": "display_data"
    }
   ],
   "source": [
    "# rfc predictions and confusion matrix\n",
    "rfc_preds = rfc_gs.predict(X_test_tvec)\n",
    "\n",
    "cm = confusion_matrix(y_test, rfc_preds)\n",
    "tn, fp, fn, tp = cm.ravel()\n",
    "\n",
    "fig, axrfc1 = plt.subplots(figsize=(7, 7))\n",
    "plot_confusion_matrix(rfc_gs,\n",
    "                     X_test_tvec,\n",
    "                     y_test,\n",
    "                     cmap = 'Blues',\n",
    "                     ax = axrfc1);\n",
    "plt.title(label='RFC Confusion Matrix',fontdict={'size':18})"
   ]
  },
  {
   "cell_type": "code",
   "execution_count": 35,
   "id": "20562d37",
   "metadata": {
    "ExecuteTime": {
     "end_time": "2021-11-09T06:03:37.003780Z",
     "start_time": "2021-11-09T06:03:36.232606Z"
    },
    "code_folding": [
     0
    ]
   },
   "outputs": [
    {
     "data": {
      "text/plain": [
       "Text(0.5, 1.0, 'RFC Confusion Matrix')"
      ]
     },
     "execution_count": 35,
     "metadata": {},
     "output_type": "execute_result"
    },
    {
     "data": {
      "image/png": "[encoded data removed]",
      "text/plain": [
       "<Figure size 504x504 with 2 Axes>"
      ]
     },
     "metadata": {
      "needs_background": "light"
     },
     "output_type": "display_data"
    }
   ],
   "source": [
    "# rfc confusion matrix (normalized)\n",
    "fig, axrfc2 = plt.subplots(figsize=(7, 7))\n",
    "plot_confusion_matrix(rfc_gs,\n",
    "                     X_test_tvec,\n",
    "                     y_test,\n",
    "                     normalize='true',\n",
    "                     cmap = 'Blues',\n",
    "                     ax = axrfc2);\n",
    "plt.title(label='RFC Confusion Matrix',fontdict={'size':18})"
   ]
  },
  {
   "cell_type": "code",
   "execution_count": 36,
   "id": "e8a6a3fc",
   "metadata": {
    "ExecuteTime": {
     "end_time": "2021-11-09T06:03:37.019784Z",
     "start_time": "2021-11-09T06:03:37.004781Z"
    },
    "collapsed": true
   },
   "outputs": [
    {
     "name": "stdout",
     "output_type": "stream",
     "text": [
      "              precision    recall  f1-score   support\n",
      "\n",
      "           0       0.91      0.92      0.92      1854\n",
      "           1       0.93      0.91      0.92      1897\n",
      "\n",
      "    accuracy                           0.92      3751\n",
      "   macro avg       0.92      0.92      0.92      3751\n",
      "weighted avg       0.92      0.92      0.92      3751\n",
      "\n"
     ]
    }
   ],
   "source": [
    "print(classification_report(y_test, rfc_preds))"
   ]
  },
  {
   "cell_type": "markdown",
   "id": "1ba8e593",
   "metadata": {},
   "source": [
    "|RFC_gs|precision|recall|f1-score|support|\n",
    "|---|---|---|---|---|\n",
    "|0|0.91|0.92|0.92|1854|\n",
    "|1|0.92|0.81|0.92|1897|\n",
    "|accuracy|   |   |0.92|3751|"
   ]
  },
  {
   "cell_type": "markdown",
   "id": "32612279",
   "metadata": {},
   "source": [
    "## Multinomial Naive Bayes\n",
    "---\n",
    "This model showed an even lower degree of overfittedness, with 92% and 91% accuracies on the train and validation sets respectively. One caveat is that the hyperparameters for this model were all default. Instead, the train and validation data were fitted/transformed using count vectorizer."
   ]
  },
  {
   "cell_type": "code",
   "execution_count": 38,
   "id": "8c20b413",
   "metadata": {
    "ExecuteTime": {
     "end_time": "2021-11-09T06:04:09.456463Z",
     "start_time": "2021-11-09T06:03:37.036710Z"
    },
    "code_folding": [
     0
    ],
    "collapsed": true
   },
   "outputs": [
    {
     "name": "stdout",
     "output_type": "stream",
     "text": [
      "Fitting 3 folds for each of 4 candidates, totalling 12 fits\n",
      "[CV 1/3] END cvec__max_df=0.8, cvec__max_features=8000, cvec__min_df=2, cvec__ngram_range=(1, 3); total time=   2.4s\n",
      "[CV 2/3] END cvec__max_df=0.8, cvec__max_features=8000, cvec__min_df=2, cvec__ngram_range=(1, 3); total time=   2.3s\n",
      "[CV 3/3] END cvec__max_df=0.8, cvec__max_features=8000, cvec__min_df=2, cvec__ngram_range=(1, 3); total time=   2.3s\n",
      "[CV 1/3] END cvec__max_df=0.8, cvec__max_features=10000, cvec__min_df=2, cvec__ngram_range=(1, 3); total time=   2.3s\n",
      "[CV 2/3] END cvec__max_df=0.8, cvec__max_features=10000, cvec__min_df=2, cvec__ngram_range=(1, 3); total time=   2.3s\n",
      "[CV 3/3] END cvec__max_df=0.8, cvec__max_features=10000, cvec__min_df=2, cvec__ngram_range=(1, 3); total time=   2.3s\n",
      "[CV 1/3] END cvec__max_df=0.85, cvec__max_features=8000, cvec__min_df=2, cvec__ngram_range=(1, 3); total time=   2.3s\n",
      "[CV 2/3] END cvec__max_df=0.85, cvec__max_features=8000, cvec__min_df=2, cvec__ngram_range=(1, 3); total time=   2.3s\n",
      "[CV 3/3] END cvec__max_df=0.85, cvec__max_features=8000, cvec__min_df=2, cvec__ngram_range=(1, 3); total time=   2.3s\n",
      "[CV 1/3] END cvec__max_df=0.85, cvec__max_features=10000, cvec__min_df=2, cvec__ngram_range=(1, 3); total time=   2.3s\n",
      "[CV 2/3] END cvec__max_df=0.85, cvec__max_features=10000, cvec__min_df=2, cvec__ngram_range=(1, 3); total time=   2.3s\n",
      "[CV 3/3] END cvec__max_df=0.85, cvec__max_features=10000, cvec__min_df=2, cvec__ngram_range=(1, 3); total time=   2.3s\n"
     ]
    },
    {
     "data": {
      "text/plain": [
       "GridSearchCV(cv=3,\n",
       "             estimator=Pipeline(steps=[('cvec',\n",
       "                                        CountVectorizer(stop_words=frozenset({'a',\n",
       "                                                                              'about',\n",
       "                                                                              'above',\n",
       "                                                                              'across',\n",
       "                                                                              'after',\n",
       "                                                                              'afterwards',\n",
       "                                                                              'again',\n",
       "                                                                              'against',\n",
       "                                                                              'all',\n",
       "                                                                              'almost',\n",
       "                                                                              'alone',\n",
       "                                                                              'along',\n",
       "                                                                              'already',\n",
       "                                                                              'also',\n",
       "                                                                              'although',\n",
       "                                                                              'always',\n",
       "                                                                              'am',\n",
       "                                                                              'among',\n",
       "                                                                              'amongst',\n",
       "                                                                              'amoungst',\n",
       "                                                                              'amount',\n",
       "                                                                              'amp',\n",
       "                                                                              'an',\n",
       "                                                                              'and',\n",
       "                                                                              'another',\n",
       "                                                                              'any',\n",
       "                                                                              'anyhow',\n",
       "                                                                              'anyone',\n",
       "                                                                              'anything',\n",
       "                                                                              'anyway', ...}))),\n",
       "                                       ('mnb', MultinomialNB())]),\n",
       "             param_grid={'cvec__max_df': [0.8, 0.85],\n",
       "                         'cvec__max_features': [8000, 10000],\n",
       "                         'cvec__min_df': [2], 'cvec__ngram_range': [(1, 3)]},\n",
       "             verbose=3)"
      ]
     },
     "execution_count": 38,
     "metadata": {},
     "output_type": "execute_result"
    }
   ],
   "source": [
    "# mnb code\n",
    "pipe = Pipeline([\n",
    "    ('cvec', CountVectorizer(stop_words = stop_words)),\n",
    "    ('mnb', MultinomialNB())\n",
    "])\n",
    "\n",
    "pipe_params = {\n",
    "    'cvec__max_features': [8000,10000],\n",
    "    'cvec__min_df': [2],\n",
    "    'cvec__max_df': [0.8, .85],\n",
    "    'cvec__ngram_range': [(1,3)]\n",
    "}\n",
    "\n",
    "mnb_gs = GridSearchCV(pipe,\n",
    "                 pipe_params,\n",
    "                 cv = 3,\n",
    "                 verbose = 3)\n",
    "\n",
    "mnb_gs.fit(X_train, y_train)"
   ]
  },
  {
   "cell_type": "code",
   "execution_count": 39,
   "id": "246fab1a",
   "metadata": {
    "ExecuteTime": {
     "end_time": "2021-11-09T06:04:10.909184Z",
     "start_time": "2021-11-09T06:04:09.457462Z"
    },
    "code_folding": [
     0
    ],
    "collapsed": true
   },
   "outputs": [
    {
     "name": "stdout",
     "output_type": "stream",
     "text": [
      "Train Score: 0.9216771097187042\n",
      "Test Score: 0.9162889896027726\n",
      "Best Score: 0.9043462507498501\n",
      "Best Parameters: {'cvec__max_df': 0.8, 'cvec__max_features': 10000, 'cvec__min_df': 2, 'cvec__ngram_range': (1, 3)}\n"
     ]
    }
   ],
   "source": [
    "# mnb scores\n",
    "print('Train Score:', mnb_gs.score(X_train, y_train))\n",
    "print('Test Score:', mnb_gs.score(X_test, y_test))\n",
    "print('Best Score:', mnb_gs.best_score_)\n",
    "print('Best Parameters:', mnb_gs.best_params_)"
   ]
  },
  {
   "cell_type": "markdown",
   "id": "3f4778ba",
   "metadata": {},
   "source": [
    "|MNB_gs Score/Params|Values|\n",
    "|---|---|\n",
    "|Train Score|0.9216771097187042|\n",
    "|Test Score|0.9162889896027726|\n",
    "|Best Score|0.9043462507498501|\n",
    "|Best Parameters|{'cvec__max_df': 0.8, 'cvec__max_features': 10000,  |\n",
    "||'cvec__min_df': 2, 'cvec__ngram_range': (1, 3)}|"
   ]
  },
  {
   "cell_type": "code",
   "execution_count": 42,
   "id": "bc0f6d06",
   "metadata": {
    "ExecuteTime": {
     "end_time": "2021-11-09T06:04:11.655504Z",
     "start_time": "2021-11-09T06:04:11.225618Z"
    },
    "code_folding": [
     0
    ]
   },
   "outputs": [
    {
     "data": {
      "text/plain": [
       "Text(0.5, 1.0, 'MNB Confusion Matrix')"
      ]
     },
     "execution_count": 42,
     "metadata": {},
     "output_type": "execute_result"
    },
    {
     "data": {
      "image/png": "[encoded data removed]",
      "text/plain": [
       "<Figure size 504x504 with 2 Axes>"
      ]
     },
     "metadata": {
      "needs_background": "light"
     },
     "output_type": "display_data"
    }
   ],
   "source": [
    "# mnb predictions and confusion matrix\n",
    "mnb_preds = mnb_gs.predict(X_test)\n",
    "\n",
    "cm = confusion_matrix(y_test, mnb_preds)\n",
    "tn, fp, fn, tp = cm.ravel()\n",
    "\n",
    "fig, axmnb1 = plt.subplots(figsize=(7, 7))\n",
    "plot_confusion_matrix(mnb_gs,\n",
    "                     X_test,\n",
    "                     y_test,\n",
    "                     cmap = 'Blues',\n",
    "                     ax = axmnb1);\n",
    "plt.title(label='MNB Confusion Matrix',fontdict={'size':18})"
   ]
  },
  {
   "cell_type": "code",
   "execution_count": 43,
   "id": "c6cbeb17",
   "metadata": {
    "ExecuteTime": {
     "end_time": "2021-11-09T06:04:12.083600Z",
     "start_time": "2021-11-09T06:04:11.656497Z"
    },
    "code_folding": [
     0
    ]
   },
   "outputs": [
    {
     "data": {
      "text/plain": [
       "Text(0.5, 1.0, 'MNB Confusion Matrix')"
      ]
     },
     "execution_count": 43,
     "metadata": {},
     "output_type": "execute_result"
    },
    {
     "data": {
      "image/png": "[encoded data removed]",
      "text/plain": [
       "<Figure size 504x504 with 2 Axes>"
      ]
     },
     "metadata": {
      "needs_background": "light"
     },
     "output_type": "display_data"
    }
   ],
   "source": [
    "# mnb confusion matrix (normalized)\n",
    "fig, axmnb2 = plt.subplots(figsize=(7, 7))\n",
    "plot_confusion_matrix(mnb_gs,\n",
    "                     X_test,\n",
    "                     y_test,\n",
    "                     normalize='true',\n",
    "                     cmap = 'Blues',\n",
    "                     ax = axmnb2);\n",
    "plt.title(label='MNB Confusion Matrix',fontdict={'size':18})"
   ]
  },
  {
   "cell_type": "code",
   "execution_count": 44,
   "id": "f7f90340",
   "metadata": {
    "ExecuteTime": {
     "end_time": "2021-11-09T06:04:12.099604Z",
     "start_time": "2021-11-09T06:04:12.084601Z"
    },
    "collapsed": true
   },
   "outputs": [
    {
     "name": "stdout",
     "output_type": "stream",
     "text": [
      "              precision    recall  f1-score   support\n",
      "\n",
      "           0       0.91      0.93      0.92      1854\n",
      "           1       0.93      0.91      0.92      1897\n",
      "\n",
      "    accuracy                           0.92      3751\n",
      "   macro avg       0.92      0.92      0.92      3751\n",
      "weighted avg       0.92      0.92      0.92      3751\n",
      "\n"
     ]
    }
   ],
   "source": [
    "print(classification_report(y_test, mnb_preds))"
   ]
  },
  {
   "cell_type": "markdown",
   "id": "5a1614ba",
   "metadata": {},
   "source": [
    "|MNB_gs|precision|recall|f1-score|support|\n",
    "|---|---|---|---|---|\n",
    "|0|0.91|0.93|0.92|1854|\n",
    "|1|0.93|0.91|0.92|1897|\n",
    "|accuracy|   |   |0.92|3751|"
   ]
  },
  {
   "cell_type": "markdown",
   "id": "7ea342c2",
   "metadata": {},
   "source": [
    "## Model Selection and Conclusion\n",
    "---\n",
    "In selecting a model to best predict whether a random post belongs to the twitch or youtube subreddit, I recommend choosing the Random Forest Classifier model. The reason for this is two-fold:\n",
    "1. It performed better than the KNN classifier, with a lower degree of overfittedness.\n",
    "2. It had virtually the same accuracy on the validation data as the Multinomial Naive Bayes model, but also includes the option of further analyzing the most important words and phrases that contributed to predictions. In general, I believe this option gives users more value than a minute increase in accuracy or reduction in overfittedness."
   ]
  }
 ],
 "metadata": {
  "kernelspec": {
   "display_name": "Python 3",
   "language": "python",
   "name": "python3"
  },
  "language_info": {
   "codemirror_mode": {
    "name": "ipython",
    "version": 3
   },
   "file_extension": ".py",
   "mimetype": "text/x-python",
   "name": "python",
   "nbconvert_exporter": "python",
   "pygments_lexer": "ipython3",
   "version": "3.8.8"
  }
 },
 "nbformat": 4,
 "nbformat_minor": 5
}
